{
 "cells": [
  {
   "cell_type": "markdown",
   "id": "d7ac9c05",
   "metadata": {},
   "source": [
    "https://pymoo.org/customization/binary.html"
   ]
  },
  {
   "cell_type": "code",
   "execution_count": 1,
   "id": "553f1c7c",
   "metadata": {},
   "outputs": [],
   "source": [
    "%load_ext autoreload\n",
    "%autoreload 2\n",
    "import knapsack_vk\n",
    "from pymoo.problems.single.knapsack import create_random_knapsack_problem"
   ]
  },
  {
   "cell_type": "code",
   "execution_count": 2,
   "id": "42ccf087",
   "metadata": {},
   "outputs": [
    {
     "name": "stdout",
     "output_type": "stream",
     "text": [
      "Best solution found: [1 0 0 0 1 0 1 1 0 0 1 0 0 0 0 0 0 1 0 1 0 0 1 0 1 0 0 1 0 0]\n"
     ]
    }
   ],
   "source": [
    "problem = create_random_knapsack_problem(30)\n",
    "res = knapsack_vk.knapsack_pymoo(problem)\n",
    "\n",
    "print(\"Best solution found: %s\" % res.X.astype(int))"
   ]
  }
 ],
 "metadata": {
  "kernelspec": {
   "display_name": "Python 3 (ipykernel)",
   "language": "python",
   "name": "python3"
  },
  "language_info": {
   "codemirror_mode": {
    "name": "ipython",
    "version": 3
   },
   "file_extension": ".py",
   "mimetype": "text/x-python",
   "name": "python",
   "nbconvert_exporter": "python",
   "pygments_lexer": "ipython3",
   "version": "3.10.6"
  }
 },
 "nbformat": 4,
 "nbformat_minor": 5
}
