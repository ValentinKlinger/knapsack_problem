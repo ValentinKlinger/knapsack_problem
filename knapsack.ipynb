{
 "cells": [
  {
   "cell_type": "markdown",
   "id": "d7ac9c05",
   "metadata": {},
   "source": [
    "creation of random knapsack problem, and pymoo solution from : https://pymoo.org/customization/binary.html"
   ]
  },
  {
   "cell_type": "code",
   "execution_count": 1,
   "id": "553f1c7c",
   "metadata": {},
   "outputs": [],
   "source": [
    "%load_ext autoreload\n",
    "%autoreload 2\n",
    "import knapsack_vk\n",
    "from pymoo.problems.single.knapsack import create_random_knapsack_problem\n",
    "import time"
   ]
  },
  {
   "cell_type": "markdown",
   "id": "752b1c4e",
   "metadata": {},
   "source": [
    "With 5 objects :"
   ]
  },
  {
   "cell_type": "code",
   "execution_count": 3,
   "id": "ff7eda4d",
   "metadata": {},
   "outputs": [
    {
     "name": "stdout",
     "output_type": "stream",
     "text": [
      "list of weights: [ 6 80 65 17  2]\n",
      "list of values: [38 13 73 10 76] \n",
      "capacity of the knapsack: 17\n",
      "\n",
      "bruteforce solution: 114, [1, 0, 0, 0, 1]\n",
      "greedy solution: 96, [0, 0, 1, 1, 1]\n",
      "pymoo solution: 114, [1 0 0 0 1]\n",
      "\n",
      "time greedy: 0.00014853477478027344\n",
      "time pymoo: 0.5775940418243408\n",
      "time bruteforce: 0.00507354736328125\n"
     ]
    }
   ],
   "source": [
    "problem = create_random_knapsack_problem(5)\n",
    "print(f\"list of weights: {problem.W}\\nlist of values: {problem.P} \\ncapacity of the knapsack: {problem.C}\\n\")\n",
    "\n",
    "start_bf = time.time()\n",
    "bf = knapsack_vk.bruteforce(problem)\n",
    "print(f'bruteforce solution: {knapsack_vk.bruteforce(problem)[0]}, {knapsack_vk.bruteforce(problem)[1]}')\n",
    "end_bf = time.time()\n",
    "\n",
    "start_greedy = time.time()\n",
    "print(f'greedy solution: {knapsack_vk.greedy_algorithm(problem)[0]}, {knapsack_vk.greedy_algorithm(problem)[1]}')\n",
    "end_greedy = time.time()\n",
    "\n",
    "start_pymoo = time.time()\n",
    "res = knapsack_vk.knapsack_pymoo(problem)\n",
    "result_pymoo = res.X.astype(int)\n",
    "total_value_pymoo = 0\n",
    "for i in range(len(result_pymoo)):\n",
    "    if result_pymoo[i] == 1:\n",
    "        total_value_pymoo += problem.P[i]\n",
    "print(f\"pymoo solution: {total_value_pymoo}, {result_pymoo}\\n\")\n",
    "end_pymoo = time.time()\n",
    "\n",
    "print(f'time greedy: {end_greedy - start_greedy}')\n",
    "print(f'time pymoo: {end_pymoo - start_pymoo}')\n",
    "print(f'time bruteforce: {end_bf - start_bf}')"
   ]
  },
  {
   "cell_type": "code",
   "execution_count": null,
   "id": "76c64116",
   "metadata": {},
   "outputs": [],
   "source": []
  }
 ],
 "metadata": {
  "kernelspec": {
   "display_name": "Python 3 (ipykernel)",
   "language": "python",
   "name": "python3"
  },
  "language_info": {
   "codemirror_mode": {
    "name": "ipython",
    "version": 3
   },
   "file_extension": ".py",
   "mimetype": "text/x-python",
   "name": "python",
   "nbconvert_exporter": "python",
   "pygments_lexer": "ipython3",
   "version": "3.10.6"
  }
 },
 "nbformat": 4,
 "nbformat_minor": 5
}
