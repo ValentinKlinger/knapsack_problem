{
 "cells": [
  {
   "cell_type": "markdown",
   "id": "d7ac9c05",
   "metadata": {},
   "source": [
    "creation of random knapsack problem, and pymoo solution from : https://pymoo.org/customization/binary.html"
   ]
  },
  {
   "cell_type": "code",
   "execution_count": 24,
   "id": "553f1c7c",
   "metadata": {},
   "outputs": [
    {
     "name": "stdout",
     "output_type": "stream",
     "text": [
      "The autoreload extension is already loaded. To reload it, use:\n",
      "  %reload_ext autoreload\n"
     ]
    }
   ],
   "source": [
    "%load_ext autoreload\n",
    "%autoreload 2\n",
    "import knapsack_vk\n",
    "from pymoo.problems.single.knapsack import create_random_knapsack_problem\n",
    "import time"
   ]
  },
  {
   "cell_type": "markdown",
   "id": "c684af3c",
   "metadata": {},
   "source": [
    "With 5 objects :"
   ]
  },
  {
   "cell_type": "code",
   "execution_count": 25,
   "id": "9cb169b5",
   "metadata": {},
   "outputs": [
    {
     "name": "stdout",
     "output_type": "stream",
     "text": [
      "list of weights: [ 6 80 65 17  2]\n",
      "list of values: [38 13 73 10 76] \n",
      "capacity of the knapsack: 17\n",
      "\n",
      "bruteforce solution: 114, [1, 0, 0, 0, 1]\n",
      "greedy solution: 96, [0, 0, 1, 1, 1]\n",
      "pymoo solution: 114, [1 0 0 0 1]\n"
     ]
    }
   ],
   "source": [
    "problem = create_random_knapsack_problem(5)\n",
    "\n",
    "res = knapsack_vk.knapsack_pymoo(problem)\n",
    "print(f\"list of weights: {problem.W}\\nlist of values: {problem.P} \\ncapacity of the knapsack: {problem.C}\\n\")\n",
    "\n",
    "result_pymoo = res.X.astype(int)\n",
    "\n",
    "bf = knapsack_vk.bruteforce(problem)\n",
    "\n",
    "total_value_pymoo = 0\n",
    "for i in range(len(result_pymoo)):\n",
    "    if result_pymoo[i] == 1:\n",
    "        total_value_pymoo += problem.P[i]\n",
    "\n",
    "print(f'bruteforce solution: {knapsack_vk.bruteforce(problem)[0]}, {knapsack_vk.bruteforce(problem)[1]}')\n",
    "print(f'greedy solution: {knapsack_vk.greedy_algorithm(problem)[0]}, {knapsack_vk.greedy_algorithm(problem)[1]}')\n",
    "print(f\"pymoo solution: {total_value_pymoo}, {result_pymoo}\")"
   ]
  },
  {
   "cell_type": "code",
   "execution_count": null,
   "id": "7c1bc901",
   "metadata": {},
   "outputs": [],
   "source": []
  }
 ],
 "metadata": {
  "kernelspec": {
   "display_name": "Python 3 (ipykernel)",
   "language": "python",
   "name": "python3"
  },
  "language_info": {
   "codemirror_mode": {
    "name": "ipython",
    "version": 3
   },
   "file_extension": ".py",
   "mimetype": "text/x-python",
   "name": "python",
   "nbconvert_exporter": "python",
   "pygments_lexer": "ipython3",
   "version": "3.10.6"
  }
 },
 "nbformat": 4,
 "nbformat_minor": 5
}
